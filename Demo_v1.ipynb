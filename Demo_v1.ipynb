{
 "cells": [
  {
   "cell_type": "code",
   "execution_count": 1,
   "id": "d9fb05bd",
   "metadata": {},
   "outputs": [],
   "source": [
    "#required imports for the demo\n",
    "import numpy as np\n",
    "import pandas as pd\n",
    "import seaborn as sns\n",
    "import matplotlib.pyplot as plt"
   ]
  },
  {
   "cell_type": "markdown",
   "id": "e8611bbb",
   "metadata": {},
   "source": [
    "## Required dependencies\n",
    " - Before using the EphysToolkit module, you first need to make sure you have the following dependencies installed:\n",
    " \n",
    "     - numpy\n",
    "     - scipy\n",
    "     - pandas\n",
    "     - json"
   ]
  },
  {
   "cell_type": "markdown",
   "id": "7b030263",
   "metadata": {},
   "source": [
    "## \"Installing\" the module\n",
    " - First, download the EphysToolkit.py file to any folder.\n",
    " - Then, define a variable pointing to the directory where you placed the file."
   ]
  },
  {
   "cell_type": "code",
   "execution_count": 2,
   "id": "59c07c10",
   "metadata": {},
   "outputs": [],
   "source": [
    "#you can change this variable to point to your directory instead\n",
    "EphysToolkit_path = \"/media/sf_DebianShared/custom_modules\""
   ]
  },
  {
   "cell_type": "markdown",
   "id": "679dbc37",
   "metadata": {},
   "source": [
    "- Copy and run the following lines of code to append the directory to your system path:"
   ]
  },
  {
   "cell_type": "code",
   "execution_count": 3,
   "id": "f6d07c38",
   "metadata": {},
   "outputs": [],
   "source": [
    "import sys\n",
    "sys.path.append(EphysToolkit_path)"
   ]
  },
  {
   "cell_type": "markdown",
   "id": "fd7cfb56",
   "metadata": {},
   "source": [
    "- Finally, run these import statements:"
   ]
  },
  {
   "cell_type": "code",
   "execution_count": 4,
   "id": "56123d07",
   "metadata": {},
   "outputs": [],
   "source": [
    "from EphysToolkit import ephys_toolkit\n",
    "from EphysToolkit import load_experiment"
   ]
  },
  {
   "cell_type": "markdown",
   "id": "667e64df",
   "metadata": {},
   "source": [
    "## Loading an experiment"
   ]
  },
  {
   "cell_type": "markdown",
   "id": "f92d4e34",
   "metadata": {},
   "source": [
    " - The following section describes how to load your data using the load_experiment class.\n",
    " - First, define some variables pointing to your file paths.\n",
    " - Use absolute paths.\n",
    " - Spike times are located in a file that ends with 'firings.mat'.\n",
    " - Stimulus data are located in a file that ends with 'stimulusData.mat'."
   ]
  },
  {
   "cell_type": "code",
   "execution_count": 5,
   "id": "de0a0e07",
   "metadata": {},
   "outputs": [],
   "source": [
    "#you can change these variables to point to your file paths instead\n",
    "spike_file = '/media/sf_DebianShared/Project_data/AE_M001/AE_M001_Section_1/AE_M001_Section_1_BLK1/AE_M001_Section_1_BLK1_firings.mat'\n",
    "stim_file =  '/media/sf_DebianShared/Project_data/AE_M001/AE_M001_Section_1/AE_M001_Section_1_BLK1/AE_M001_Section_1_BLK1_stimulusData.mat'"
   ]
  },
  {
   "cell_type": "code",
   "execution_count": 6,
   "id": "ee19ee0e",
   "metadata": {},
   "outputs": [],
   "source": [
    "experiment = load_experiment(spike_file, stim_file)"
   ]
  },
  {
   "cell_type": "markdown",
   "id": "0776a0a1",
   "metadata": {},
   "source": [
    "## Checking the stimulus data\n",
    " - Stimulus information is retrieved by calling the stim_data attribute\n",
    " - Stimulus data is stored in a pandas dataframe because all arrays have the same length."
   ]
  },
  {
   "cell_type": "code",
   "execution_count": 7,
   "id": "8a5980d2",
   "metadata": {},
   "outputs": [
    {
     "data": {
      "text/html": [
       "<div>\n",
       "<style scoped>\n",
       "    .dataframe tbody tr th:only-of-type {\n",
       "        vertical-align: middle;\n",
       "    }\n",
       "\n",
       "    .dataframe tbody tr th {\n",
       "        vertical-align: top;\n",
       "    }\n",
       "\n",
       "    .dataframe thead th {\n",
       "        text-align: right;\n",
       "    }\n",
       "</style>\n",
       "<table border=\"1\" class=\"dataframe\">\n",
       "  <thead>\n",
       "    <tr style=\"text-align: right;\">\n",
       "      <th></th>\n",
       "      <th>stim_condition_ids</th>\n",
       "      <th>stim_start_indicies</th>\n",
       "      <th>stim_stop_indicies</th>\n",
       "      <th>stim_start_times</th>\n",
       "      <th>stim_stop_times</th>\n",
       "    </tr>\n",
       "  </thead>\n",
       "  <tbody>\n",
       "    <tr>\n",
       "      <th>0</th>\n",
       "      <td>1</td>\n",
       "      <td>40906</td>\n",
       "      <td>51509</td>\n",
       "      <td>2045.30</td>\n",
       "      <td>2575.45</td>\n",
       "    </tr>\n",
       "    <tr>\n",
       "      <th>1</th>\n",
       "      <td>2</td>\n",
       "      <td>51837</td>\n",
       "      <td>62501</td>\n",
       "      <td>2591.85</td>\n",
       "      <td>3125.05</td>\n",
       "    </tr>\n",
       "    <tr>\n",
       "      <th>2</th>\n",
       "      <td>1</td>\n",
       "      <td>62838</td>\n",
       "      <td>73504</td>\n",
       "      <td>3141.90</td>\n",
       "      <td>3675.20</td>\n",
       "    </tr>\n",
       "    <tr>\n",
       "      <th>3</th>\n",
       "      <td>2</td>\n",
       "      <td>73841</td>\n",
       "      <td>84504</td>\n",
       "      <td>3692.05</td>\n",
       "      <td>4225.20</td>\n",
       "    </tr>\n",
       "    <tr>\n",
       "      <th>4</th>\n",
       "      <td>1</td>\n",
       "      <td>84899</td>\n",
       "      <td>95497</td>\n",
       "      <td>4244.95</td>\n",
       "      <td>4774.85</td>\n",
       "    </tr>\n",
       "    <tr>\n",
       "      <th>...</th>\n",
       "      <td>...</td>\n",
       "      <td>...</td>\n",
       "      <td>...</td>\n",
       "      <td>...</td>\n",
       "      <td>...</td>\n",
       "    </tr>\n",
       "    <tr>\n",
       "      <th>393</th>\n",
       "      <td>2</td>\n",
       "      <td>4337436</td>\n",
       "      <td>4347770</td>\n",
       "      <td>216871.80</td>\n",
       "      <td>217388.50</td>\n",
       "    </tr>\n",
       "    <tr>\n",
       "      <th>394</th>\n",
       "      <td>1</td>\n",
       "      <td>4348105</td>\n",
       "      <td>4358769</td>\n",
       "      <td>217405.25</td>\n",
       "      <td>217938.45</td>\n",
       "    </tr>\n",
       "    <tr>\n",
       "      <th>395</th>\n",
       "      <td>2</td>\n",
       "      <td>4359104</td>\n",
       "      <td>4369763</td>\n",
       "      <td>217955.20</td>\n",
       "      <td>218488.15</td>\n",
       "    </tr>\n",
       "    <tr>\n",
       "      <th>396</th>\n",
       "      <td>1</td>\n",
       "      <td>4370099</td>\n",
       "      <td>4380762</td>\n",
       "      <td>218504.95</td>\n",
       "      <td>219038.10</td>\n",
       "    </tr>\n",
       "    <tr>\n",
       "      <th>397</th>\n",
       "      <td>2</td>\n",
       "      <td>4381099</td>\n",
       "      <td>4391762</td>\n",
       "      <td>219054.95</td>\n",
       "      <td>219588.10</td>\n",
       "    </tr>\n",
       "  </tbody>\n",
       "</table>\n",
       "<p>398 rows × 5 columns</p>\n",
       "</div>"
      ],
      "text/plain": [
       "     stim_condition_ids  stim_start_indicies  stim_stop_indicies  \\\n",
       "0                     1                40906               51509   \n",
       "1                     2                51837               62501   \n",
       "2                     1                62838               73504   \n",
       "3                     2                73841               84504   \n",
       "4                     1                84899               95497   \n",
       "..                  ...                  ...                 ...   \n",
       "393                   2              4337436             4347770   \n",
       "394                   1              4348105             4358769   \n",
       "395                   2              4359104             4369763   \n",
       "396                   1              4370099             4380762   \n",
       "397                   2              4381099             4391762   \n",
       "\n",
       "     stim_start_times  stim_stop_times  \n",
       "0             2045.30          2575.45  \n",
       "1             2591.85          3125.05  \n",
       "2             3141.90          3675.20  \n",
       "3             3692.05          4225.20  \n",
       "4             4244.95          4774.85  \n",
       "..                ...              ...  \n",
       "393         216871.80        217388.50  \n",
       "394         217405.25        217938.45  \n",
       "395         217955.20        218488.15  \n",
       "396         218504.95        219038.10  \n",
       "397         219054.95        219588.10  \n",
       "\n",
       "[398 rows x 5 columns]"
      ]
     },
     "execution_count": 7,
     "metadata": {},
     "output_type": "execute_result"
    }
   ],
   "source": [
    "experiment.stim_data"
   ]
  },
  {
   "cell_type": "markdown",
   "id": "346e70e2",
   "metadata": {},
   "source": [
    "## Checking the spiking data\n",
    " - Cluster spiking information is retrieved by calling the spike_data attribute.\n",
    " - Spiking data is stored as a list of dictionaries.\n",
    " - Each dictionary corresponds to a different cluster.\n",
    " - The dictionary keys are:\n",
    "     - 'cluster_id': a number corresponding to the unique id of the cluster\n",
    "     - 'channel_id': a number corresponding to the channel that picked up the cluster\n",
    "     - 'spike_index': index of spikes relative to the length of the entire recording\n",
    "     - 'spike_time': time that a spike occured in unix time\n",
    "     - 'rel_spike_time': time of the spike in ms relative to the start of the recording"
   ]
  },
  {
   "cell_type": "code",
   "execution_count": 8,
   "id": "8e6afaff",
   "metadata": {},
   "outputs": [
    {
     "data": {
      "text/plain": [
       "array([ 726.2 ,  917.05, 1111.2 , 1122.6 , 2351.6 , 2508.  , 2771.15,\n",
       "       2823.35, 2959.15, 4369.95])"
      ]
     },
     "execution_count": 8,
     "metadata": {},
     "output_type": "execute_result"
    }
   ],
   "source": [
    "#checking the first 10 relative spike times of just the first cluster\n",
    "\n",
    "experiment.spike_data[0]['rel_spike_time'][:10] "
   ]
  },
  {
   "cell_type": "markdown",
   "id": "7c6cbb13",
   "metadata": {},
   "source": [
    "## Changing the units of your event times\n",
    " - This section describes how to change the time unit for your event times using the get_event_times method.\n",
    " - By default, EphysToolkit gives you your event times (stim start, stim stop, rel spike time) in milliseconds. It should not be necessary to change the unit of your event times, but it is possible.\n",
    " - You should always give your units in terms of 1 second, ie:\n",
    "     - 1ms = 0.001\n",
    "     - 1cs = 0.01\n",
    "     - 1ds = 0.1\n",
    "     - 1s  = 1\n",
    " - It is also possible to define any arbitrary unit as long as it is relative to 1 second."
   ]
  },
  {
   "cell_type": "code",
   "execution_count": 9,
   "id": "61513d6d",
   "metadata": {},
   "outputs": [],
   "source": [
    "experiment.get_event_times(bin_size = 0.001) #event times in milliseconds\n",
    "experiment.get_event_times(bin_size = 0.01) #event times in centiseconds\n",
    "experiment.get_event_times(bin_size = 0.1) #event times in deciseconds\n",
    "experiment.get_event_times(bin_size = 1) #event times in seconds"
   ]
  },
  {
   "cell_type": "markdown",
   "id": "e037ecfd",
   "metadata": {},
   "source": [
    " - Checking the changes..."
   ]
  },
  {
   "cell_type": "code",
   "execution_count": 10,
   "id": "1461e616",
   "metadata": {},
   "outputs": [
    {
     "data": {
      "text/html": [
       "<div>\n",
       "<style scoped>\n",
       "    .dataframe tbody tr th:only-of-type {\n",
       "        vertical-align: middle;\n",
       "    }\n",
       "\n",
       "    .dataframe tbody tr th {\n",
       "        vertical-align: top;\n",
       "    }\n",
       "\n",
       "    .dataframe thead th {\n",
       "        text-align: right;\n",
       "    }\n",
       "</style>\n",
       "<table border=\"1\" class=\"dataframe\">\n",
       "  <thead>\n",
       "    <tr style=\"text-align: right;\">\n",
       "      <th></th>\n",
       "      <th>stim_condition_ids</th>\n",
       "      <th>stim_start_indicies</th>\n",
       "      <th>stim_stop_indicies</th>\n",
       "      <th>stim_start_times</th>\n",
       "      <th>stim_stop_times</th>\n",
       "    </tr>\n",
       "  </thead>\n",
       "  <tbody>\n",
       "    <tr>\n",
       "      <th>0</th>\n",
       "      <td>1</td>\n",
       "      <td>40906</td>\n",
       "      <td>51509</td>\n",
       "      <td>2.04530</td>\n",
       "      <td>2.57545</td>\n",
       "    </tr>\n",
       "    <tr>\n",
       "      <th>1</th>\n",
       "      <td>2</td>\n",
       "      <td>51837</td>\n",
       "      <td>62501</td>\n",
       "      <td>2.59185</td>\n",
       "      <td>3.12505</td>\n",
       "    </tr>\n",
       "    <tr>\n",
       "      <th>2</th>\n",
       "      <td>1</td>\n",
       "      <td>62838</td>\n",
       "      <td>73504</td>\n",
       "      <td>3.14190</td>\n",
       "      <td>3.67520</td>\n",
       "    </tr>\n",
       "    <tr>\n",
       "      <th>3</th>\n",
       "      <td>2</td>\n",
       "      <td>73841</td>\n",
       "      <td>84504</td>\n",
       "      <td>3.69205</td>\n",
       "      <td>4.22520</td>\n",
       "    </tr>\n",
       "    <tr>\n",
       "      <th>4</th>\n",
       "      <td>1</td>\n",
       "      <td>84899</td>\n",
       "      <td>95497</td>\n",
       "      <td>4.24495</td>\n",
       "      <td>4.77485</td>\n",
       "    </tr>\n",
       "    <tr>\n",
       "      <th>...</th>\n",
       "      <td>...</td>\n",
       "      <td>...</td>\n",
       "      <td>...</td>\n",
       "      <td>...</td>\n",
       "      <td>...</td>\n",
       "    </tr>\n",
       "    <tr>\n",
       "      <th>393</th>\n",
       "      <td>2</td>\n",
       "      <td>4337436</td>\n",
       "      <td>4347770</td>\n",
       "      <td>216.87180</td>\n",
       "      <td>217.38850</td>\n",
       "    </tr>\n",
       "    <tr>\n",
       "      <th>394</th>\n",
       "      <td>1</td>\n",
       "      <td>4348105</td>\n",
       "      <td>4358769</td>\n",
       "      <td>217.40525</td>\n",
       "      <td>217.93845</td>\n",
       "    </tr>\n",
       "    <tr>\n",
       "      <th>395</th>\n",
       "      <td>2</td>\n",
       "      <td>4359104</td>\n",
       "      <td>4369763</td>\n",
       "      <td>217.95520</td>\n",
       "      <td>218.48815</td>\n",
       "    </tr>\n",
       "    <tr>\n",
       "      <th>396</th>\n",
       "      <td>1</td>\n",
       "      <td>4370099</td>\n",
       "      <td>4380762</td>\n",
       "      <td>218.50495</td>\n",
       "      <td>219.03810</td>\n",
       "    </tr>\n",
       "    <tr>\n",
       "      <th>397</th>\n",
       "      <td>2</td>\n",
       "      <td>4381099</td>\n",
       "      <td>4391762</td>\n",
       "      <td>219.05495</td>\n",
       "      <td>219.58810</td>\n",
       "    </tr>\n",
       "  </tbody>\n",
       "</table>\n",
       "<p>398 rows × 5 columns</p>\n",
       "</div>"
      ],
      "text/plain": [
       "     stim_condition_ids  stim_start_indicies  stim_stop_indicies  \\\n",
       "0                     1                40906               51509   \n",
       "1                     2                51837               62501   \n",
       "2                     1                62838               73504   \n",
       "3                     2                73841               84504   \n",
       "4                     1                84899               95497   \n",
       "..                  ...                  ...                 ...   \n",
       "393                   2              4337436             4347770   \n",
       "394                   1              4348105             4358769   \n",
       "395                   2              4359104             4369763   \n",
       "396                   1              4370099             4380762   \n",
       "397                   2              4381099             4391762   \n",
       "\n",
       "     stim_start_times  stim_stop_times  \n",
       "0             2.04530          2.57545  \n",
       "1             2.59185          3.12505  \n",
       "2             3.14190          3.67520  \n",
       "3             3.69205          4.22520  \n",
       "4             4.24495          4.77485  \n",
       "..                ...              ...  \n",
       "393         216.87180        217.38850  \n",
       "394         217.40525        217.93845  \n",
       "395         217.95520        218.48815  \n",
       "396         218.50495        219.03810  \n",
       "397         219.05495        219.58810  \n",
       "\n",
       "[398 rows x 5 columns]"
      ]
     },
     "execution_count": 10,
     "metadata": {},
     "output_type": "execute_result"
    }
   ],
   "source": [
    "#The last line of code changed the unit to seconds, so event times are given in seconds\n",
    "experiment.stim_data"
   ]
  },
  {
   "cell_type": "code",
   "execution_count": 11,
   "id": "95ada400",
   "metadata": {
    "scrolled": false
   },
   "outputs": [
    {
     "data": {
      "text/plain": [
       "array([0.7262 , 0.91705, 1.1112 , 1.1226 , 2.3516 , 2.508  , 2.77115,\n",
       "       2.82335, 2.95915, 4.36995])"
      ]
     },
     "execution_count": 11,
     "metadata": {},
     "output_type": "execute_result"
    }
   ],
   "source": [
    "experiment.spike_data[0]['rel_spike_time'][:10]"
   ]
  },
  {
   "cell_type": "markdown",
   "id": "a74dc77c",
   "metadata": {},
   "source": [
    " - As stated previously, it is possible to define any arbitrary unit as long as it is relative to 1 second.\n",
    " - Let's try defining a 1 quarter second unit"
   ]
  },
  {
   "cell_type": "code",
   "execution_count": 12,
   "id": "3ce63400",
   "metadata": {},
   "outputs": [
    {
     "data": {
      "text/plain": [
       "array([ 2.9048,  3.6682,  4.4448,  4.4904,  9.4064, 10.032 , 11.0846,\n",
       "       11.2934, 11.8366, 17.4798])"
      ]
     },
     "execution_count": 12,
     "metadata": {},
     "output_type": "execute_result"
    }
   ],
   "source": [
    "experiment.get_event_times(bin_size = 0.25) #event times in quarter seconds\n",
    "experiment.spike_data[0]['rel_spike_time'][:10]"
   ]
  },
  {
   "cell_type": "code",
   "execution_count": 13,
   "id": "e6217c79",
   "metadata": {},
   "outputs": [],
   "source": [
    "#resetting the units to 1ms\n",
    "experiment.get_event_times(bin_size = 0.001)"
   ]
  },
  {
   "cell_type": "markdown",
   "id": "c3881196",
   "metadata": {},
   "source": [
    "## Checking the spike sorting metrics\n",
    " - This section describes how to retrieve your spike sorting metrics using the get_spike_sorting_metrics method.\n",
    " - First, define a variable pointing to the path of your spike sorting metrics file.\n",
    " - The metrics file typically ends with 'metrics_isolation.json'.\n"
   ]
  },
  {
   "cell_type": "code",
   "execution_count": 14,
   "id": "1742bc9d",
   "metadata": {},
   "outputs": [],
   "source": [
    "#you can change this variable to point to your file path instead\n",
    "metrics_file = '/media/sf_DebianShared/Project_data/AE_M001/AE_M001_Section_1/AE_M001_Section_1_metrics_isolation.json'"
   ]
  },
  {
   "cell_type": "code",
   "execution_count": 15,
   "id": "76297e8b",
   "metadata": {},
   "outputs": [
    {
     "data": {
      "text/html": [
       "<div>\n",
       "<style scoped>\n",
       "    .dataframe tbody tr th:only-of-type {\n",
       "        vertical-align: middle;\n",
       "    }\n",
       "\n",
       "    .dataframe tbody tr th {\n",
       "        vertical-align: top;\n",
       "    }\n",
       "\n",
       "    .dataframe thead th {\n",
       "        text-align: right;\n",
       "    }\n",
       "</style>\n",
       "<table border=\"1\" class=\"dataframe\">\n",
       "  <thead>\n",
       "    <tr style=\"text-align: right;\">\n",
       "      <th></th>\n",
       "      <th>cluster</th>\n",
       "      <th>isolation</th>\n",
       "      <th>noise_overlap</th>\n",
       "    </tr>\n",
       "  </thead>\n",
       "  <tbody>\n",
       "    <tr>\n",
       "      <th>0</th>\n",
       "      <td>1.0</td>\n",
       "      <td>0.997650</td>\n",
       "      <td>0.240012</td>\n",
       "    </tr>\n",
       "    <tr>\n",
       "      <th>1</th>\n",
       "      <td>2.0</td>\n",
       "      <td>0.997487</td>\n",
       "      <td>0.007540</td>\n",
       "    </tr>\n",
       "    <tr>\n",
       "      <th>2</th>\n",
       "      <td>3.0</td>\n",
       "      <td>0.910693</td>\n",
       "      <td>0.205053</td>\n",
       "    </tr>\n",
       "    <tr>\n",
       "      <th>3</th>\n",
       "      <td>4.0</td>\n",
       "      <td>0.878966</td>\n",
       "      <td>0.188308</td>\n",
       "    </tr>\n",
       "    <tr>\n",
       "      <th>4</th>\n",
       "      <td>5.0</td>\n",
       "      <td>0.898355</td>\n",
       "      <td>0.206228</td>\n",
       "    </tr>\n",
       "    <tr>\n",
       "      <th>...</th>\n",
       "      <td>...</td>\n",
       "      <td>...</td>\n",
       "      <td>...</td>\n",
       "    </tr>\n",
       "    <tr>\n",
       "      <th>452</th>\n",
       "      <td>453.0</td>\n",
       "      <td>0.908343</td>\n",
       "      <td>0.133666</td>\n",
       "    </tr>\n",
       "    <tr>\n",
       "      <th>453</th>\n",
       "      <td>454.0</td>\n",
       "      <td>0.903349</td>\n",
       "      <td>0.178613</td>\n",
       "    </tr>\n",
       "    <tr>\n",
       "      <th>454</th>\n",
       "      <td>455.0</td>\n",
       "      <td>0.890717</td>\n",
       "      <td>0.172738</td>\n",
       "    </tr>\n",
       "    <tr>\n",
       "      <th>455</th>\n",
       "      <td>456.0</td>\n",
       "      <td>0.905993</td>\n",
       "      <td>0.172150</td>\n",
       "    </tr>\n",
       "    <tr>\n",
       "      <th>456</th>\n",
       "      <td>457.0</td>\n",
       "      <td>0.997944</td>\n",
       "      <td>0.158343</td>\n",
       "    </tr>\n",
       "  </tbody>\n",
       "</table>\n",
       "<p>457 rows × 3 columns</p>\n",
       "</div>"
      ],
      "text/plain": [
       "     cluster  isolation  noise_overlap\n",
       "0        1.0   0.997650       0.240012\n",
       "1        2.0   0.997487       0.007540\n",
       "2        3.0   0.910693       0.205053\n",
       "3        4.0   0.878966       0.188308\n",
       "4        5.0   0.898355       0.206228\n",
       "..       ...        ...            ...\n",
       "452    453.0   0.908343       0.133666\n",
       "453    454.0   0.903349       0.178613\n",
       "454    455.0   0.890717       0.172738\n",
       "455    456.0   0.905993       0.172150\n",
       "456    457.0   0.997944       0.158343\n",
       "\n",
       "[457 rows x 3 columns]"
      ]
     },
     "execution_count": 15,
     "metadata": {},
     "output_type": "execute_result"
    }
   ],
   "source": [
    "metrics = experiment.get_spike_sorting_metrics(metrics_file)\n",
    "metrics"
   ]
  },
  {
   "cell_type": "code",
   "execution_count": 16,
   "id": "9a30a925",
   "metadata": {},
   "outputs": [
    {
     "data": {
      "text/plain": [
       "(0.0, 0.5)"
      ]
     },
     "execution_count": 16,
     "metadata": {},
     "output_type": "execute_result"
    },
    {
     "data": {
      "image/png": "[encoded data removed]",
      "text/plain": [
       "<Figure size 432x288 with 1 Axes>"
      ]
     },
     "metadata": {
      "needs_background": "light"
     },
     "output_type": "display_data"
    }
   ],
   "source": [
    "#plot isolation x noise overlap\n",
    "plt.scatter(metrics['isolation'], metrics['noise_overlap'])\n",
    "plt.plot(np.linspace(0,1,457),[0.07]*457, linestyle = '--', color = 'red')\n",
    "plt.plot([0.96]*457, np.linspace(0,1,457), linestyle = '--', color = 'red')\n",
    "plt.xlim(0.7,1)\n",
    "plt.ylim(0,0.5)"
   ]
  },
  {
   "cell_type": "markdown",
   "id": "f81fc877",
   "metadata": {},
   "source": [
    "- Below demonstrates how to make a list of units that pass the single unit criteria (isolation > 0.96, noise overlap < 0.07):"
   ]
  },
  {
   "cell_type": "code",
   "execution_count": 17,
   "id": "f9466e61",
   "metadata": {},
   "outputs": [],
   "source": [
    "single_units = metrics.loc[ #using the loc method from the pandas module...\n",
    "    \n",
    "    #search for rows where isolation is above 0.96 and noise overlap is below 0.07\n",
    "    (metrics.isolation > 0.96) \n",
    "    & (metrics.noise_overlap < 0.07)\n",
    "].reset_index()"
   ]
  },
  {
   "cell_type": "code",
   "execution_count": 18,
   "id": "2bca2143",
   "metadata": {},
   "outputs": [],
   "source": [
    "#index into the 'index' column of the dataframe\n",
    "#call the values method from the pandas module to convert the series object into an array\n",
    "include_units = single_units['index'].values"
   ]
  },
  {
   "cell_type": "code",
   "execution_count": 19,
   "id": "345d647c",
   "metadata": {},
   "outputs": [
    {
     "data": {
      "text/plain": [
       "array([  1,  29,  30,  34,  35,  36,  38,  39,  40,  47,  48,  52,  87,\n",
       "        89,  90,  91,  92, 112, 119, 120, 122, 127, 128, 151, 156, 166,\n",
       "       198, 200, 234, 262, 263, 264])"
      ]
     },
     "execution_count": 19,
     "metadata": {},
     "output_type": "execute_result"
    }
   ],
   "source": [
    "include_units"
   ]
  },
  {
   "cell_type": "markdown",
   "id": "7bf28e65",
   "metadata": {},
   "source": [
    "## Making raster arrays and raster plots\n",
    " - This section describes how to make raster arrays using the make_raster method.\n",
    " - First, define an array of stim start times and an array of spike times."
   ]
  },
  {
   "cell_type": "code",
   "execution_count": 20,
   "id": "7898717e",
   "metadata": {},
   "outputs": [],
   "source": [
    "spiketimes = experiment.spike_data[40]['rel_spike_time']\n",
    "stimtimes = experiment.stim_data['stim_start_times'].values"
   ]
  },
  {
   "cell_type": "markdown",
   "id": "cd7ed10e",
   "metadata": {},
   "source": [
    "- By default, the make_raster method concatenates/sums all spikes across each stimulus repetition."
   ]
  },
  {
   "cell_type": "code",
   "execution_count": 21,
   "id": "949d94c5",
   "metadata": {},
   "outputs": [],
   "source": [
    "raster = experiment.make_raster(\n",
    "    stimtimes, #first argument is the stimtimes\n",
    "    spiketimes, #second argument is the spiketimes\n",
    "    thresh = (-500,500) #third argument \"thresh\" defines the time boundaries around 0 as the stimulus onset\n",
    ")"
   ]
  },
  {
   "cell_type": "code",
   "execution_count": 22,
   "id": "a5497c4d",
   "metadata": {},
   "outputs": [
    {
     "data": {
      "text/plain": [
       "<matplotlib.legend.Legend at 0x7f1c050c9640>"
      ]
     },
     "execution_count": 22,
     "metadata": {},
     "output_type": "execute_result"
    },
    {
     "data": {
      "image/png": "[encoded data removed]",
      "text/plain": [
       "<Figure size 1440x360 with 1 Axes>"
      ]
     },
     "metadata": {
      "needs_background": "light"
     },
     "output_type": "display_data"
    }
   ],
   "source": [
    "#plot your raster\n",
    "plt.subplots(figsize = (20,5))\n",
    "plt.vlines(raster, -1, 1)\n",
    "plt.vlines(0,-1.2,1.2, linestyle = '--', color = 'red', label = \"stimulus onset\")\n",
    "plt.legend()"
   ]
  },
  {
   "cell_type": "markdown",
   "id": "a3d7210d",
   "metadata": {},
   "source": [
    "- You can also make an individual raster array for each individual stimulus repetition by setting the \"concatenate\" argument equal to \"False\"."
   ]
  },
  {
   "cell_type": "code",
   "execution_count": 23,
   "id": "3728bcf7",
   "metadata": {},
   "outputs": [],
   "source": [
    "raster = experiment.make_raster(\n",
    "    stimtimes,\n",
    "    spiketimes,\n",
    "    thresh = (-500,500),\n",
    "    concatenate = False #make an individual raster for each stimulus rep\n",
    ")"
   ]
  },
  {
   "cell_type": "code",
   "execution_count": 24,
   "id": "eac2f149",
   "metadata": {},
   "outputs": [
    {
     "data": {
      "text/plain": [
       "[[114.54999999999995],\n",
       " [-432.0, 154.70000000000027, 439.5500000000002],\n",
       " [-395.3499999999999, -110.5],\n",
       " [],\n",
       " []]"
      ]
     },
     "execution_count": 24,
     "metadata": {},
     "output_type": "execute_result"
    }
   ],
   "source": [
    "raster[0:5] #the raster array for each of the first 5 stimulus repetitions"
   ]
  },
  {
   "cell_type": "code",
   "execution_count": 25,
   "id": "18085c15",
   "metadata": {},
   "outputs": [
    {
     "name": "stdout",
     "output_type": "stream",
     "text": [
      "This experiment repeated the stimulus 398 times\n"
     ]
    }
   ],
   "source": [
    "print(f\"This experiment repeated the stimulus {len(raster)} times\") "
   ]
  },
  {
   "cell_type": "code",
   "execution_count": 26,
   "id": "d4e99fce",
   "metadata": {},
   "outputs": [
    {
     "data": {
      "text/plain": [
       "<matplotlib.legend.Legend at 0x7f1c050933d0>"
      ]
     },
     "execution_count": 26,
     "metadata": {},
     "output_type": "execute_result"
    },
    {
     "data": {
      "image/png": "[encoded data removed]",
      "text/plain": [
       "<Figure size 1440x360 with 1 Axes>"
      ]
     },
     "metadata": {
      "needs_background": "light"
     },
     "output_type": "display_data"
    }
   ],
   "source": [
    "#a raster plot of the response to only the second repetition of the same stimulus\n",
    "\n",
    "plt.subplots(figsize = (20,5))\n",
    "plt.vlines(raster[1], -1, 1)\n",
    "plt.vlines(0,-1.2,1.2, linestyle = '--', color = 'red', label = \"stimulus onset\")\n",
    "plt.legend()"
   ]
  },
  {
   "cell_type": "markdown",
   "id": "b9da697a",
   "metadata": {},
   "source": [
    "## Getting events associated with a particular stimulus condition\n",
    "- The following section will describe how to get the event times associated with a particular stimulus condition using the get_condition_times method.\n",
    "- In the previous example where I showed how to make a raster plot, the raster was made relative to all stimulus condition start times. \n",
    "- If you want to make a raster plot relative to a specific stimulus condition, you can use the start times associated with just that condition in the make_raster method.\n",
    "- Let's demonstrate how to get those start times using get_condition_times.\n",
    "- First, you must choose a condition whose times you want to retrieve. \n",
    "- You can browse all the condition identifiers associated with your experiment using the stim_conditions method."
   ]
  },
  {
   "cell_type": "code",
   "execution_count": 27,
   "id": "8cddaa04",
   "metadata": {
    "scrolled": true
   },
   "outputs": [
    {
     "data": {
      "text/plain": [
       "array([1, 2], dtype=uint8)"
      ]
     },
     "execution_count": 27,
     "metadata": {},
     "output_type": "execute_result"
    }
   ],
   "source": [
    "experiment.stim_conditions"
   ]
  },
  {
   "cell_type": "markdown",
   "id": "f3783ddd",
   "metadata": {},
   "source": [
    "- Since this experiment used only a polarity switching checkerboard stimulus, the only conditions are 1 and 2."
   ]
  },
  {
   "cell_type": "code",
   "execution_count": 28,
   "id": "d6b5f10e",
   "metadata": {},
   "outputs": [
    {
     "data": {
      "text/plain": [
       "{'start': array([  2045.3 ,   3141.9 ,   4244.95,   5341.9 ,   6441.85,   7541.8 ,\n",
       "          8641.8 ,   9741.75,  10841.6 ,  11941.75,  13041.45,  14141.55,\n",
       "         15241.7 ,  16341.7 ,  17441.65,  18541.65,  19641.45,  20724.95,\n",
       "         21824.85,  22924.75,  24024.85,  25124.8 ,  26224.7 ,  27324.6 ,\n",
       "         28424.95,  29508.35,  30591.6 ,  31691.4 ,  32791.5 ,  33891.35,\n",
       "         34974.7 ,  36074.8 ,  37174.75,  38274.8 ,  39358.1 ,  40457.85,\n",
       "         41557.7 ,  42641.3 ,  43724.75,  44824.35,  45924.35,  47008.  ,\n",
       "         48091.2 ,  49190.95,  50274.6 ,  51374.55,  52474.3 ,  53557.9 ,\n",
       "         54657.85,  55757.85,  56857.85,  57957.8 ,  59057.4 ,  60141.1 ,\n",
       "         61241.  ,  62340.7 ,  63424.45,  64524.35,  65624.  ,  66724.3 ,\n",
       "         67824.  ,  68907.45,  70007.2 ,  71090.9 ,  72173.85,  73257.5 ,\n",
       "         74357.5 ,  75457.1 ,  76540.8 ,  77640.45,  78740.4 ,  79824.05,\n",
       "         80923.8 ,  82007.  ,  83107.2 ,  84207.35,  85307.35,  86390.65,\n",
       "         87490.35,  88573.55,  89640.6 ,  90740.2 ,  91823.6 ,  92906.8 ,\n",
       "         94007.2 ,  95106.85,  96190.5 ,  97290.5 ,  98373.4 ,  99440.45,\n",
       "        100540.1 , 101640.4 , 102740.1 , 103823.7 , 104923.55, 106023.55,\n",
       "        107123.65, 108223.65, 109323.55, 110423.6 , 111523.5 , 112606.5 ,\n",
       "        113706.6 , 114790.25, 115890.2 , 116973.1 , 118040.15, 119139.85,\n",
       "        120240.1 , 121339.75, 122439.85, 123540.05, 124639.65, 125723.5 ,\n",
       "        126806.35, 127889.6 , 128956.6 , 130056.25, 131139.65, 132239.95,\n",
       "        133339.8 , 134406.55, 135506.2 , 136589.9 , 137689.85, 138789.85,\n",
       "        139889.55, 140973.1 , 142072.7 , 143172.75, 144256.4 , 145356.05,\n",
       "        146439.55, 147539.35, 148639.3 , 149722.95, 150805.9 , 151889.3 ,\n",
       "        152972.95, 154056.25, 155139.65, 156239.6 , 157339.6 , 158439.65,\n",
       "        159539.6 , 160639.35, 161722.8 , 162822.7 , 163906.1 , 165006.1 ,\n",
       "        166106.1 , 167206.05, 168306.05, 169405.8 , 170489.35, 171589.3 ,\n",
       "        172688.95, 173756.05, 174855.55, 175955.6 , 177022.6 , 178122.1 ,\n",
       "        179205.85, 180305.55, 181389.15, 182488.95, 183572.55, 184672.4 ,\n",
       "        185772.1 , 186872.1 , 187972.25, 189055.75, 190155.35, 191239.  ,\n",
       "        192338.85, 193422.3 , 194505.7 , 195605.25, 196688.95, 197772.2 ,\n",
       "        198855.15, 199955.6 , 201055.6 , 202155.1 , 203222.  , 204321.75,\n",
       "        205422.15, 206522.05, 207622.05, 208705.  , 209788.3 , 210855.3 ,\n",
       "        211955.05, 213038.65, 214138.35, 215221.9 , 216322.1 , 217405.25,\n",
       "        218504.95]),\n",
       " 'stop': array([  2575.45,   3675.2 ,   4774.85,   5875.1 ,   6974.9 ,   8074.9 ,\n",
       "          9174.95,  10274.7 ,  11374.95,  12474.7 ,  13574.85,  14674.8 ,\n",
       "         15774.8 ,  16874.75,  17974.75,  19074.75,  20158.15,  21258.  ,\n",
       "         22357.75,  23457.95,  24557.9 ,  25657.8 ,  26757.65,  27857.85,\n",
       "         28958.  ,  30041.5 ,  31124.9 ,  32224.65,  33324.65,  34424.5 ,\n",
       "         35508.  ,  36608.  ,  37708.05,  38807.7 ,  39891.3 ,  40990.8 ,\n",
       "         42074.4 ,  43174.2 ,  44257.85,  45357.55,  46441.05,  47541.15,\n",
       "         48624.4 ,  49707.8 ,  50807.75,  51907.6 ,  53007.6 ,  54091.05,\n",
       "         55190.6 ,  56291.  ,  57391.  ,  58490.95,  59590.65,  60674.25,\n",
       "         61774.1 ,  62873.8 ,  63957.55,  65057.55,  66157.5 ,  67257.15,\n",
       "         68340.7 ,  69440.35,  70524.  ,  71623.95,  72690.85,  73790.8 ,\n",
       "         74890.55,  75973.9 ,  77074.1 ,  78173.8 ,  79257.25,  80357.15,\n",
       "         81440.65,  82540.3 ,  83640.2 ,  84740.4 ,  85840.4 ,  86923.85,\n",
       "         88007.2 ,  89090.35,  90173.8 ,  91257.1 ,  92340.5 ,  93440.15,\n",
       "         94540.25,  95623.7 ,  96723.7 ,  97823.25,  98890.1 ,  99973.35,\n",
       "        101073.35, 102173.7 , 103256.8 , 104356.8 , 105456.75, 106556.7 ,\n",
       "        107656.55, 108756.7 , 109856.55, 110956.5 , 112056.45, 113139.75,\n",
       "        114223.5 , 115323.55, 116423.25, 117489.85, 118573.35, 119673.05,\n",
       "        120773.3 , 121872.95, 122973.05, 124073.35, 125172.95, 126239.5 ,\n",
       "        127339.6 , 128406.35, 129489.7 , 130573.  , 131672.85, 132773.1 ,\n",
       "        133856.5 , 134939.85, 136039.45, 137123.05, 138223.05, 139322.55,\n",
       "        140422.6 , 141506.3 , 142605.95, 143689.7 , 144789.65, 145872.75,\n",
       "        146972.75, 148072.55, 149156.05, 150256.  , 151322.75, 152406.  ,\n",
       "        153505.7 , 154589.1 , 155672.85, 156772.8 , 157872.8 , 158972.85,\n",
       "        160072.45, 161156.  , 162256.  , 163355.8 , 164439.35, 165539.3 ,\n",
       "        166639.25, 167739.25, 168838.8 , 169922.55, 171022.55, 172122.5 ,\n",
       "        173205.8 , 174289.2 , 175388.8 , 176472.3 , 177555.8 , 178655.55,\n",
       "        179739.1 , 180822.2 , 181922.05, 183022.  , 184105.7 , 185205.25,\n",
       "        186305.3 , 187405.3 , 188505.4 , 189588.45, 190672.2 , 191772.  ,\n",
       "        192872.  , 193955.55, 195038.9 , 196122.  , 197221.9 , 198305.4 ,\n",
       "        199388.45, 200488.8 , 201588.6 , 202671.8 , 203755.2 , 204855.05,\n",
       "        205955.  , 207055.15, 208155.15, 209221.8 , 210305.3 , 211388.15,\n",
       "        212471.85, 213571.85, 214655.15, 215755.1 , 216855.2 , 217938.45,\n",
       "        219038.1 ])}"
      ]
     },
     "execution_count": 28,
     "metadata": {},
     "output_type": "execute_result"
    }
   ],
   "source": [
    "condition_1_events = experiment.get_condition_times(1)\n",
    "condition_1_events"
   ]
  },
  {
   "cell_type": "markdown",
   "id": "36fdd604",
   "metadata": {},
   "source": [
    "- You can now get the event times associated with condition 1 by indexing the dictionary that is returned."
   ]
  },
  {
   "cell_type": "code",
   "execution_count": 29,
   "id": "03c17463",
   "metadata": {},
   "outputs": [],
   "source": [
    "stimtimes = condition_1_events['start']"
   ]
  },
  {
   "cell_type": "code",
   "execution_count": 30,
   "id": "0c3505b1",
   "metadata": {},
   "outputs": [],
   "source": [
    "raster = experiment.make_raster(\n",
    "    stimtimes,\n",
    "    spiketimes,\n",
    "    thresh = (0,500),\n",
    ")"
   ]
  },
  {
   "cell_type": "code",
   "execution_count": 31,
   "id": "74828c59",
   "metadata": {},
   "outputs": [
    {
     "name": "stderr",
     "output_type": "stream",
     "text": [
      "No artists with labels found to put in legend.  Note that artists whose label start with an underscore are ignored when legend() is called with no argument.\n"
     ]
    },
    {
     "data": {
      "text/plain": [
       "<matplotlib.legend.Legend at 0x7f1c0730cd90>"
      ]
     },
     "execution_count": 31,
     "metadata": {},
     "output_type": "execute_result"
    },
    {
     "data": {
      "image/png": "[encoded data removed]",
      "text/plain": [
       "<Figure size 1440x360 with 1 Axes>"
      ]
     },
     "metadata": {
      "needs_background": "light"
     },
     "output_type": "display_data"
    }
   ],
   "source": [
    "#a raster plot of the response to stimulus condition 1\n",
    "\n",
    "plt.subplots(figsize = (20,5))\n",
    "plt.vlines(raster, -1, 1)\n",
    "plt.legend()"
   ]
  },
  {
   "cell_type": "markdown",
   "id": "941cd3d0",
   "metadata": {},
   "source": [
    "## Making population response matricies and heatmaps\n",
    " - The following section will describe how to make a population response matrix using the get_population_response_matrix method.\n",
    " - In order to assure that we only analyze single units, the get_population_response_matrix method must take a list of units to include while compiling the matrix.\n",
    " - Let's use the \"include_units\" list we made in the spike sorting metrics section."
   ]
  },
  {
   "cell_type": "code",
   "execution_count": 32,
   "id": "134c5ddf",
   "metadata": {
    "scrolled": true
   },
   "outputs": [
    {
     "data": {
      "text/plain": [
       "array([  1,  29,  30,  34,  35,  36,  38,  39,  40,  47,  48,  52,  87,\n",
       "        89,  90,  91,  92, 112, 119, 120, 122, 127, 128, 151, 156, 166,\n",
       "       198, 200, 234, 262, 263, 264])"
      ]
     },
     "execution_count": 32,
     "metadata": {},
     "output_type": "execute_result"
    }
   ],
   "source": [
    "include_units"
   ]
  },
  {
   "cell_type": "markdown",
   "id": "3b2b515e",
   "metadata": {},
   "source": [
    "- The second thing that needs to be defined by the user is the stimulus condition(s) to include in the population response matrix.\n",
    "- The previous section showed how to use the stim_conditions attribute to browse your stimulus conditions. So let's pick any one of those conditions."
   ]
  },
  {
   "cell_type": "code",
   "execution_count": 33,
   "id": "e353198b",
   "metadata": {},
   "outputs": [
    {
     "data": {
      "text/plain": [
       "array([1, 2], dtype=uint8)"
      ]
     },
     "execution_count": 33,
     "metadata": {},
     "output_type": "execute_result"
    }
   ],
   "source": [
    "experiment.stim_conditions"
   ]
  },
  {
   "cell_type": "code",
   "execution_count": 34,
   "id": "04829564",
   "metadata": {},
   "outputs": [
    {
     "data": {
      "text/html": [
       "<div>\n",
       "<style scoped>\n",
       "    .dataframe tbody tr th:only-of-type {\n",
       "        vertical-align: middle;\n",
       "    }\n",
       "\n",
       "    .dataframe tbody tr th {\n",
       "        vertical-align: top;\n",
       "    }\n",
       "\n",
       "    .dataframe thead th {\n",
       "        text-align: right;\n",
       "    }\n",
       "</style>\n",
       "<table border=\"1\" class=\"dataframe\">\n",
       "  <thead>\n",
       "    <tr style=\"text-align: right;\">\n",
       "      <th></th>\n",
       "      <th>2</th>\n",
       "      <th>30</th>\n",
       "      <th>31</th>\n",
       "      <th>35</th>\n",
       "      <th>36</th>\n",
       "      <th>37</th>\n",
       "      <th>39</th>\n",
       "      <th>40</th>\n",
       "      <th>41</th>\n",
       "      <th>48</th>\n",
       "      <th>...</th>\n",
       "      <th>129</th>\n",
       "      <th>152</th>\n",
       "      <th>157</th>\n",
       "      <th>167</th>\n",
       "      <th>199</th>\n",
       "      <th>201</th>\n",
       "      <th>235</th>\n",
       "      <th>263</th>\n",
       "      <th>264</th>\n",
       "      <th>265</th>\n",
       "    </tr>\n",
       "  </thead>\n",
       "  <tbody>\n",
       "    <tr>\n",
       "      <th>0</th>\n",
       "      <td>0</td>\n",
       "      <td>0</td>\n",
       "      <td>0</td>\n",
       "      <td>0</td>\n",
       "      <td>0</td>\n",
       "      <td>0</td>\n",
       "      <td>0</td>\n",
       "      <td>1</td>\n",
       "      <td>0</td>\n",
       "      <td>0</td>\n",
       "      <td>...</td>\n",
       "      <td>0</td>\n",
       "      <td>0</td>\n",
       "      <td>2</td>\n",
       "      <td>0</td>\n",
       "      <td>0</td>\n",
       "      <td>0</td>\n",
       "      <td>0.0</td>\n",
       "      <td>0</td>\n",
       "      <td>0</td>\n",
       "      <td>0</td>\n",
       "    </tr>\n",
       "    <tr>\n",
       "      <th>1</th>\n",
       "      <td>0</td>\n",
       "      <td>0</td>\n",
       "      <td>0</td>\n",
       "      <td>0</td>\n",
       "      <td>0</td>\n",
       "      <td>1</td>\n",
       "      <td>0</td>\n",
       "      <td>1</td>\n",
       "      <td>0</td>\n",
       "      <td>0</td>\n",
       "      <td>...</td>\n",
       "      <td>0</td>\n",
       "      <td>0</td>\n",
       "      <td>0</td>\n",
       "      <td>0</td>\n",
       "      <td>0</td>\n",
       "      <td>0</td>\n",
       "      <td>0.0</td>\n",
       "      <td>0</td>\n",
       "      <td>0</td>\n",
       "      <td>0</td>\n",
       "    </tr>\n",
       "    <tr>\n",
       "      <th>2</th>\n",
       "      <td>0</td>\n",
       "      <td>1</td>\n",
       "      <td>0</td>\n",
       "      <td>0</td>\n",
       "      <td>0</td>\n",
       "      <td>1</td>\n",
       "      <td>0</td>\n",
       "      <td>0</td>\n",
       "      <td>1</td>\n",
       "      <td>0</td>\n",
       "      <td>...</td>\n",
       "      <td>0</td>\n",
       "      <td>0</td>\n",
       "      <td>0</td>\n",
       "      <td>0</td>\n",
       "      <td>0</td>\n",
       "      <td>0</td>\n",
       "      <td>0.0</td>\n",
       "      <td>0</td>\n",
       "      <td>0</td>\n",
       "      <td>0</td>\n",
       "    </tr>\n",
       "    <tr>\n",
       "      <th>3</th>\n",
       "      <td>0</td>\n",
       "      <td>1</td>\n",
       "      <td>0</td>\n",
       "      <td>0</td>\n",
       "      <td>0</td>\n",
       "      <td>3</td>\n",
       "      <td>0</td>\n",
       "      <td>1</td>\n",
       "      <td>0</td>\n",
       "      <td>0</td>\n",
       "      <td>...</td>\n",
       "      <td>0</td>\n",
       "      <td>0</td>\n",
       "      <td>1</td>\n",
       "      <td>0</td>\n",
       "      <td>0</td>\n",
       "      <td>0</td>\n",
       "      <td>0.0</td>\n",
       "      <td>0</td>\n",
       "      <td>0</td>\n",
       "      <td>0</td>\n",
       "    </tr>\n",
       "    <tr>\n",
       "      <th>4</th>\n",
       "      <td>0</td>\n",
       "      <td>1</td>\n",
       "      <td>0</td>\n",
       "      <td>0</td>\n",
       "      <td>0</td>\n",
       "      <td>3</td>\n",
       "      <td>1</td>\n",
       "      <td>0</td>\n",
       "      <td>0</td>\n",
       "      <td>0</td>\n",
       "      <td>...</td>\n",
       "      <td>0</td>\n",
       "      <td>0</td>\n",
       "      <td>0</td>\n",
       "      <td>0</td>\n",
       "      <td>0</td>\n",
       "      <td>0</td>\n",
       "      <td>0.0</td>\n",
       "      <td>0</td>\n",
       "      <td>0</td>\n",
       "      <td>1</td>\n",
       "    </tr>\n",
       "    <tr>\n",
       "      <th>...</th>\n",
       "      <td>...</td>\n",
       "      <td>...</td>\n",
       "      <td>...</td>\n",
       "      <td>...</td>\n",
       "      <td>...</td>\n",
       "      <td>...</td>\n",
       "      <td>...</td>\n",
       "      <td>...</td>\n",
       "      <td>...</td>\n",
       "      <td>...</td>\n",
       "      <td>...</td>\n",
       "      <td>...</td>\n",
       "      <td>...</td>\n",
       "      <td>...</td>\n",
       "      <td>...</td>\n",
       "      <td>...</td>\n",
       "      <td>...</td>\n",
       "      <td>...</td>\n",
       "      <td>...</td>\n",
       "      <td>...</td>\n",
       "      <td>...</td>\n",
       "    </tr>\n",
       "    <tr>\n",
       "      <th>495</th>\n",
       "      <td>0</td>\n",
       "      <td>1</td>\n",
       "      <td>0</td>\n",
       "      <td>0</td>\n",
       "      <td>0</td>\n",
       "      <td>0</td>\n",
       "      <td>0</td>\n",
       "      <td>1</td>\n",
       "      <td>0</td>\n",
       "      <td>0</td>\n",
       "      <td>...</td>\n",
       "      <td>0</td>\n",
       "      <td>0</td>\n",
       "      <td>4</td>\n",
       "      <td>0</td>\n",
       "      <td>0</td>\n",
       "      <td>0</td>\n",
       "      <td>0.0</td>\n",
       "      <td>0</td>\n",
       "      <td>0</td>\n",
       "      <td>0</td>\n",
       "    </tr>\n",
       "    <tr>\n",
       "      <th>496</th>\n",
       "      <td>0</td>\n",
       "      <td>2</td>\n",
       "      <td>1</td>\n",
       "      <td>0</td>\n",
       "      <td>0</td>\n",
       "      <td>1</td>\n",
       "      <td>0</td>\n",
       "      <td>0</td>\n",
       "      <td>0</td>\n",
       "      <td>0</td>\n",
       "      <td>...</td>\n",
       "      <td>0</td>\n",
       "      <td>0</td>\n",
       "      <td>0</td>\n",
       "      <td>0</td>\n",
       "      <td>0</td>\n",
       "      <td>0</td>\n",
       "      <td>0.0</td>\n",
       "      <td>1</td>\n",
       "      <td>0</td>\n",
       "      <td>1</td>\n",
       "    </tr>\n",
       "    <tr>\n",
       "      <th>497</th>\n",
       "      <td>0</td>\n",
       "      <td>1</td>\n",
       "      <td>3</td>\n",
       "      <td>0</td>\n",
       "      <td>0</td>\n",
       "      <td>0</td>\n",
       "      <td>0</td>\n",
       "      <td>0</td>\n",
       "      <td>0</td>\n",
       "      <td>0</td>\n",
       "      <td>...</td>\n",
       "      <td>0</td>\n",
       "      <td>0</td>\n",
       "      <td>1</td>\n",
       "      <td>0</td>\n",
       "      <td>0</td>\n",
       "      <td>0</td>\n",
       "      <td>0.0</td>\n",
       "      <td>0</td>\n",
       "      <td>0</td>\n",
       "      <td>0</td>\n",
       "    </tr>\n",
       "    <tr>\n",
       "      <th>498</th>\n",
       "      <td>0</td>\n",
       "      <td>0</td>\n",
       "      <td>1</td>\n",
       "      <td>0</td>\n",
       "      <td>0</td>\n",
       "      <td>0</td>\n",
       "      <td>0</td>\n",
       "      <td>1</td>\n",
       "      <td>0</td>\n",
       "      <td>0</td>\n",
       "      <td>...</td>\n",
       "      <td>0</td>\n",
       "      <td>0</td>\n",
       "      <td>0</td>\n",
       "      <td>0</td>\n",
       "      <td>0</td>\n",
       "      <td>0</td>\n",
       "      <td>0.0</td>\n",
       "      <td>0</td>\n",
       "      <td>0</td>\n",
       "      <td>0</td>\n",
       "    </tr>\n",
       "    <tr>\n",
       "      <th>499</th>\n",
       "      <td>0</td>\n",
       "      <td>3</td>\n",
       "      <td>0</td>\n",
       "      <td>0</td>\n",
       "      <td>0</td>\n",
       "      <td>1</td>\n",
       "      <td>0</td>\n",
       "      <td>0</td>\n",
       "      <td>0</td>\n",
       "      <td>0</td>\n",
       "      <td>...</td>\n",
       "      <td>1</td>\n",
       "      <td>0</td>\n",
       "      <td>1</td>\n",
       "      <td>0</td>\n",
       "      <td>0</td>\n",
       "      <td>0</td>\n",
       "      <td>0.0</td>\n",
       "      <td>0</td>\n",
       "      <td>0</td>\n",
       "      <td>0</td>\n",
       "    </tr>\n",
       "  </tbody>\n",
       "</table>\n",
       "<p>500 rows × 32 columns</p>\n",
       "</div>"
      ],
      "text/plain": [
       "     2    30   31   35   36   37   39   40   41   48   ...  129  152  157  \\\n",
       "0      0    0    0    0    0    0    0    1    0    0  ...    0    0    2   \n",
       "1      0    0    0    0    0    1    0    1    0    0  ...    0    0    0   \n",
       "2      0    1    0    0    0    1    0    0    1    0  ...    0    0    0   \n",
       "3      0    1    0    0    0    3    0    1    0    0  ...    0    0    1   \n",
       "4      0    1    0    0    0    3    1    0    0    0  ...    0    0    0   \n",
       "..   ...  ...  ...  ...  ...  ...  ...  ...  ...  ...  ...  ...  ...  ...   \n",
       "495    0    1    0    0    0    0    0    1    0    0  ...    0    0    4   \n",
       "496    0    2    1    0    0    1    0    0    0    0  ...    0    0    0   \n",
       "497    0    1    3    0    0    0    0    0    0    0  ...    0    0    1   \n",
       "498    0    0    1    0    0    0    0    1    0    0  ...    0    0    0   \n",
       "499    0    3    0    0    0    1    0    0    0    0  ...    1    0    1   \n",
       "\n",
       "     167  199  201  235  263  264  265  \n",
       "0      0    0    0  0.0    0    0    0  \n",
       "1      0    0    0  0.0    0    0    0  \n",
       "2      0    0    0  0.0    0    0    0  \n",
       "3      0    0    0  0.0    0    0    0  \n",
       "4      0    0    0  0.0    0    0    1  \n",
       "..   ...  ...  ...  ...  ...  ...  ...  \n",
       "495    0    0    0  0.0    0    0    0  \n",
       "496    0    0    0  0.0    1    0    1  \n",
       "497    0    0    0  0.0    0    0    0  \n",
       "498    0    0    0  0.0    0    0    0  \n",
       "499    0    0    0  0.0    0    0    0  \n",
       "\n",
       "[500 rows x 32 columns]"
      ]
     },
     "execution_count": 34,
     "metadata": {},
     "output_type": "execute_result"
    }
   ],
   "source": [
    "m = experiment.get_population_response_matrix(\n",
    "    include_units, #units to include\n",
    "    1, #the stimulus condition\n",
    "    thresh = (0,500) #time boundary around the stimulus onsets\n",
    ")\n",
    "m"
   ]
  },
  {
   "cell_type": "markdown",
   "id": "c7230722",
   "metadata": {},
   "source": [
    "- The output is a dataframe where each column is a raster array of the given unit responding to the given stimulus condition (concatenated across repeats).\n",
    "- Using this dataframe, you can plot multiple rasters in a single neat looking figure."
   ]
  },
  {
   "cell_type": "code",
   "execution_count": 35,
   "id": "8febaf83",
   "metadata": {},
   "outputs": [
    {
     "data": {
      "image/png": "[encoded data removed]",
      "text/plain": [
       "<Figure size 1728x576 with 2 Axes>"
      ]
     },
     "metadata": {
      "needs_background": "light"
     },
     "output_type": "display_data"
    }
   ],
   "source": [
    "#plot the population response heatmap\n",
    "fig, ax = plt.subplots(figsize = (24,8))\n",
    "\n",
    "#transpose the array for a more typical rasterplot visualization\n",
    "ax = sns.heatmap(m.values.T, cbar_kws={'label': 'spikes/ms'})\n",
    "ax.set_xticklabels(np.arange(0,500,5))\n",
    "ax.set_xlabel(\"Time (ms)\")\n",
    "ax.set_ylabel(\"Unit\")\n",
    "plt.show()"
   ]
  },
  {
   "cell_type": "markdown",
   "id": "49709ff2",
   "metadata": {},
   "source": [
    "- It is also possible to do this with all available stimulus conditions by switching the second argument to 'all'."
   ]
  },
  {
   "cell_type": "code",
   "execution_count": 36,
   "id": "1c1b5161",
   "metadata": {},
   "outputs": [
    {
     "data": {
      "text/html": [
       "<div>\n",
       "<style scoped>\n",
       "    .dataframe tbody tr th:only-of-type {\n",
       "        vertical-align: middle;\n",
       "    }\n",
       "\n",
       "    .dataframe tbody tr th {\n",
       "        vertical-align: top;\n",
       "    }\n",
       "\n",
       "    .dataframe thead th {\n",
       "        text-align: right;\n",
       "    }\n",
       "</style>\n",
       "<table border=\"1\" class=\"dataframe\">\n",
       "  <thead>\n",
       "    <tr style=\"text-align: right;\">\n",
       "      <th></th>\n",
       "      <th>stimulus_condition</th>\n",
       "      <th>2</th>\n",
       "      <th>30</th>\n",
       "      <th>31</th>\n",
       "      <th>35</th>\n",
       "      <th>36</th>\n",
       "      <th>37</th>\n",
       "      <th>39</th>\n",
       "      <th>40</th>\n",
       "      <th>41</th>\n",
       "      <th>...</th>\n",
       "      <th>129</th>\n",
       "      <th>152</th>\n",
       "      <th>157</th>\n",
       "      <th>167</th>\n",
       "      <th>199</th>\n",
       "      <th>201</th>\n",
       "      <th>235</th>\n",
       "      <th>263</th>\n",
       "      <th>264</th>\n",
       "      <th>265</th>\n",
       "    </tr>\n",
       "  </thead>\n",
       "  <tbody>\n",
       "    <tr>\n",
       "      <th>0</th>\n",
       "      <td>1</td>\n",
       "      <td>0</td>\n",
       "      <td>0</td>\n",
       "      <td>0</td>\n",
       "      <td>0</td>\n",
       "      <td>0</td>\n",
       "      <td>0</td>\n",
       "      <td>0</td>\n",
       "      <td>1</td>\n",
       "      <td>0</td>\n",
       "      <td>...</td>\n",
       "      <td>0</td>\n",
       "      <td>0</td>\n",
       "      <td>2</td>\n",
       "      <td>0</td>\n",
       "      <td>0</td>\n",
       "      <td>0</td>\n",
       "      <td>0.0</td>\n",
       "      <td>0</td>\n",
       "      <td>0</td>\n",
       "      <td>0</td>\n",
       "    </tr>\n",
       "    <tr>\n",
       "      <th>1</th>\n",
       "      <td>1</td>\n",
       "      <td>0</td>\n",
       "      <td>0</td>\n",
       "      <td>0</td>\n",
       "      <td>0</td>\n",
       "      <td>0</td>\n",
       "      <td>1</td>\n",
       "      <td>0</td>\n",
       "      <td>1</td>\n",
       "      <td>0</td>\n",
       "      <td>...</td>\n",
       "      <td>0</td>\n",
       "      <td>0</td>\n",
       "      <td>0</td>\n",
       "      <td>0</td>\n",
       "      <td>0</td>\n",
       "      <td>0</td>\n",
       "      <td>0.0</td>\n",
       "      <td>0</td>\n",
       "      <td>0</td>\n",
       "      <td>0</td>\n",
       "    </tr>\n",
       "    <tr>\n",
       "      <th>2</th>\n",
       "      <td>1</td>\n",
       "      <td>0</td>\n",
       "      <td>1</td>\n",
       "      <td>0</td>\n",
       "      <td>0</td>\n",
       "      <td>0</td>\n",
       "      <td>1</td>\n",
       "      <td>0</td>\n",
       "      <td>0</td>\n",
       "      <td>1</td>\n",
       "      <td>...</td>\n",
       "      <td>0</td>\n",
       "      <td>0</td>\n",
       "      <td>0</td>\n",
       "      <td>0</td>\n",
       "      <td>0</td>\n",
       "      <td>0</td>\n",
       "      <td>0.0</td>\n",
       "      <td>0</td>\n",
       "      <td>0</td>\n",
       "      <td>0</td>\n",
       "    </tr>\n",
       "    <tr>\n",
       "      <th>3</th>\n",
       "      <td>1</td>\n",
       "      <td>0</td>\n",
       "      <td>1</td>\n",
       "      <td>0</td>\n",
       "      <td>0</td>\n",
       "      <td>0</td>\n",
       "      <td>3</td>\n",
       "      <td>0</td>\n",
       "      <td>1</td>\n",
       "      <td>0</td>\n",
       "      <td>...</td>\n",
       "      <td>0</td>\n",
       "      <td>0</td>\n",
       "      <td>1</td>\n",
       "      <td>0</td>\n",
       "      <td>0</td>\n",
       "      <td>0</td>\n",
       "      <td>0.0</td>\n",
       "      <td>0</td>\n",
       "      <td>0</td>\n",
       "      <td>0</td>\n",
       "    </tr>\n",
       "    <tr>\n",
       "      <th>4</th>\n",
       "      <td>1</td>\n",
       "      <td>0</td>\n",
       "      <td>1</td>\n",
       "      <td>0</td>\n",
       "      <td>0</td>\n",
       "      <td>0</td>\n",
       "      <td>3</td>\n",
       "      <td>1</td>\n",
       "      <td>0</td>\n",
       "      <td>0</td>\n",
       "      <td>...</td>\n",
       "      <td>0</td>\n",
       "      <td>0</td>\n",
       "      <td>0</td>\n",
       "      <td>0</td>\n",
       "      <td>0</td>\n",
       "      <td>0</td>\n",
       "      <td>0.0</td>\n",
       "      <td>0</td>\n",
       "      <td>0</td>\n",
       "      <td>1</td>\n",
       "    </tr>\n",
       "    <tr>\n",
       "      <th>...</th>\n",
       "      <td>...</td>\n",
       "      <td>...</td>\n",
       "      <td>...</td>\n",
       "      <td>...</td>\n",
       "      <td>...</td>\n",
       "      <td>...</td>\n",
       "      <td>...</td>\n",
       "      <td>...</td>\n",
       "      <td>...</td>\n",
       "      <td>...</td>\n",
       "      <td>...</td>\n",
       "      <td>...</td>\n",
       "      <td>...</td>\n",
       "      <td>...</td>\n",
       "      <td>...</td>\n",
       "      <td>...</td>\n",
       "      <td>...</td>\n",
       "      <td>...</td>\n",
       "      <td>...</td>\n",
       "      <td>...</td>\n",
       "      <td>...</td>\n",
       "    </tr>\n",
       "    <tr>\n",
       "      <th>995</th>\n",
       "      <td>2</td>\n",
       "      <td>0</td>\n",
       "      <td>3</td>\n",
       "      <td>2</td>\n",
       "      <td>0</td>\n",
       "      <td>0</td>\n",
       "      <td>3</td>\n",
       "      <td>1</td>\n",
       "      <td>0</td>\n",
       "      <td>1</td>\n",
       "      <td>...</td>\n",
       "      <td>0</td>\n",
       "      <td>0</td>\n",
       "      <td>1</td>\n",
       "      <td>0</td>\n",
       "      <td>0</td>\n",
       "      <td>0</td>\n",
       "      <td>0.0</td>\n",
       "      <td>0</td>\n",
       "      <td>0</td>\n",
       "      <td>0</td>\n",
       "    </tr>\n",
       "    <tr>\n",
       "      <th>996</th>\n",
       "      <td>2</td>\n",
       "      <td>0</td>\n",
       "      <td>1</td>\n",
       "      <td>0</td>\n",
       "      <td>0</td>\n",
       "      <td>0</td>\n",
       "      <td>1</td>\n",
       "      <td>0</td>\n",
       "      <td>1</td>\n",
       "      <td>0</td>\n",
       "      <td>...</td>\n",
       "      <td>0</td>\n",
       "      <td>0</td>\n",
       "      <td>5</td>\n",
       "      <td>0</td>\n",
       "      <td>0</td>\n",
       "      <td>0</td>\n",
       "      <td>0.0</td>\n",
       "      <td>0</td>\n",
       "      <td>0</td>\n",
       "      <td>0</td>\n",
       "    </tr>\n",
       "    <tr>\n",
       "      <th>997</th>\n",
       "      <td>2</td>\n",
       "      <td>0</td>\n",
       "      <td>1</td>\n",
       "      <td>2</td>\n",
       "      <td>0</td>\n",
       "      <td>0</td>\n",
       "      <td>2</td>\n",
       "      <td>0</td>\n",
       "      <td>0</td>\n",
       "      <td>2</td>\n",
       "      <td>...</td>\n",
       "      <td>0</td>\n",
       "      <td>0</td>\n",
       "      <td>4</td>\n",
       "      <td>0</td>\n",
       "      <td>0</td>\n",
       "      <td>0</td>\n",
       "      <td>0.0</td>\n",
       "      <td>1</td>\n",
       "      <td>0</td>\n",
       "      <td>0</td>\n",
       "    </tr>\n",
       "    <tr>\n",
       "      <th>998</th>\n",
       "      <td>2</td>\n",
       "      <td>0</td>\n",
       "      <td>1</td>\n",
       "      <td>0</td>\n",
       "      <td>0</td>\n",
       "      <td>0</td>\n",
       "      <td>1</td>\n",
       "      <td>0</td>\n",
       "      <td>1</td>\n",
       "      <td>0</td>\n",
       "      <td>...</td>\n",
       "      <td>0</td>\n",
       "      <td>0</td>\n",
       "      <td>0</td>\n",
       "      <td>0</td>\n",
       "      <td>0</td>\n",
       "      <td>0</td>\n",
       "      <td>0.0</td>\n",
       "      <td>0</td>\n",
       "      <td>0</td>\n",
       "      <td>0</td>\n",
       "    </tr>\n",
       "    <tr>\n",
       "      <th>999</th>\n",
       "      <td>2</td>\n",
       "      <td>0</td>\n",
       "      <td>2</td>\n",
       "      <td>1</td>\n",
       "      <td>0</td>\n",
       "      <td>0</td>\n",
       "      <td>1</td>\n",
       "      <td>1</td>\n",
       "      <td>3</td>\n",
       "      <td>0</td>\n",
       "      <td>...</td>\n",
       "      <td>0</td>\n",
       "      <td>0</td>\n",
       "      <td>1</td>\n",
       "      <td>0</td>\n",
       "      <td>0</td>\n",
       "      <td>0</td>\n",
       "      <td>0.0</td>\n",
       "      <td>1</td>\n",
       "      <td>0</td>\n",
       "      <td>0</td>\n",
       "    </tr>\n",
       "  </tbody>\n",
       "</table>\n",
       "<p>1000 rows × 33 columns</p>\n",
       "</div>"
      ],
      "text/plain": [
       "     stimulus_condition  2  30  31  35  36  37  39  40  41  ...  129  152  \\\n",
       "0                     1  0   0   0   0   0   0   0   1   0  ...    0    0   \n",
       "1                     1  0   0   0   0   0   1   0   1   0  ...    0    0   \n",
       "2                     1  0   1   0   0   0   1   0   0   1  ...    0    0   \n",
       "3                     1  0   1   0   0   0   3   0   1   0  ...    0    0   \n",
       "4                     1  0   1   0   0   0   3   1   0   0  ...    0    0   \n",
       "..                  ... ..  ..  ..  ..  ..  ..  ..  ..  ..  ...  ...  ...   \n",
       "995                   2  0   3   2   0   0   3   1   0   1  ...    0    0   \n",
       "996                   2  0   1   0   0   0   1   0   1   0  ...    0    0   \n",
       "997                   2  0   1   2   0   0   2   0   0   2  ...    0    0   \n",
       "998                   2  0   1   0   0   0   1   0   1   0  ...    0    0   \n",
       "999                   2  0   2   1   0   0   1   1   3   0  ...    0    0   \n",
       "\n",
       "     157  167  199  201  235  263  264  265  \n",
       "0      2    0    0    0  0.0    0    0    0  \n",
       "1      0    0    0    0  0.0    0    0    0  \n",
       "2      0    0    0    0  0.0    0    0    0  \n",
       "3      1    0    0    0  0.0    0    0    0  \n",
       "4      0    0    0    0  0.0    0    0    1  \n",
       "..   ...  ...  ...  ...  ...  ...  ...  ...  \n",
       "995    1    0    0    0  0.0    0    0    0  \n",
       "996    5    0    0    0  0.0    0    0    0  \n",
       "997    4    0    0    0  0.0    1    0    0  \n",
       "998    0    0    0    0  0.0    0    0    0  \n",
       "999    1    0    0    0  0.0    1    0    0  \n",
       "\n",
       "[1000 rows x 33 columns]"
      ]
     },
     "execution_count": 36,
     "metadata": {},
     "output_type": "execute_result"
    }
   ],
   "source": [
    "m = experiment.get_population_response_matrix(\n",
    "    include_units, \n",
    "    'all', #include all stimulus conditions\n",
    "    thresh = (0,500) \n",
    ")\n",
    "m"
   ]
  },
  {
   "cell_type": "markdown",
   "id": "b0b2b448",
   "metadata": {},
   "source": [
    "- The output is similar to what was shown previously. However, now there is also a column indicating the stimulus condition."
   ]
  },
  {
   "cell_type": "code",
   "execution_count": 37,
   "id": "65070a56",
   "metadata": {},
   "outputs": [
    {
     "data": {
      "image/png": "[encoded data removed]",
      "text/plain": [
       "<Figure size 1728x576 with 2 Axes>"
      ]
     },
     "metadata": {
      "needs_background": "light"
     },
     "output_type": "display_data"
    }
   ],
   "source": [
    "#plot the population response heatmap\n",
    "fig, ax = plt.subplots(figsize = (24,8))\n",
    "\n",
    "#transpose the array for a more typical rasterplot visualization\n",
    "ax = sns.heatmap(m.values.T, cbar_kws={'label': 'spikes/ms'})\n",
    "\n",
    "#white dotted line showing the boundary between stimulus conditions\n",
    "ax.plot([500]*1000, np.arange(1000), linestyle = '--', color = 'white')\n",
    "ax.set_xticklabels(np.arange(0,500,5))\n",
    "ax.set_xlabel(\"Time (ms)\")\n",
    "ax.set_ylabel(\"Unit\")\n",
    "plt.show()"
   ]
  },
  {
   "cell_type": "markdown",
   "id": "d0948e24",
   "metadata": {},
   "source": [
    "- This figure looks OK, but some of those unit's responses look pretty dim compared to the other higher frequency units.\n",
    "- In order to make those faint responses pop out more, we can normalize the population response matrix within each unit.\n",
    "- To do this, include the 'norm' argument when calling the get_population_response_matrix method.\n",
    "    - You can set norm = any of the following: 'minmax', 'zscore', 'average'"
   ]
  },
  {
   "cell_type": "code",
   "execution_count": 38,
   "id": "d766728a",
   "metadata": {},
   "outputs": [],
   "source": [
    "m = experiment.get_population_response_matrix(\n",
    "    include_units, \n",
    "    'all',\n",
    "    thresh = (0,500),\n",
    "    norm = 'minmax' #apply min/max normalization within each unit\n",
    ")"
   ]
  },
  {
   "cell_type": "code",
   "execution_count": 39,
   "id": "190e93f2",
   "metadata": {},
   "outputs": [
    {
     "data": {
      "image/png": "[encoded data removed]",
      "text/plain": [
       "<Figure size 1728x576 with 2 Axes>"
      ]
     },
     "metadata": {
      "needs_background": "light"
     },
     "output_type": "display_data"
    }
   ],
   "source": [
    "#plot the population response heatmap\n",
    "fig, ax = plt.subplots(figsize = (24,8))\n",
    "\n",
    "#transpose the array for a more typical rasterplot visualization\n",
    "ax = sns.heatmap(m.values.T, cbar_kws={'label': 'spikes/ms'})\n",
    "\n",
    "#white dotted line showing the boundary between stimulus conditions\n",
    "ax.plot([500]*1000, np.arange(1000), linestyle = '--', color = 'white')\n",
    "ax.set_xticklabels(np.arange(0,500,5))\n",
    "ax.set_xlabel(\"Time (ms)\")\n",
    "ax.set_ylabel(\"Unit\")\n",
    "plt.show()"
   ]
  },
  {
   "cell_type": "markdown",
   "id": "3011b3eb",
   "metadata": {},
   "source": [
    "- Min/max normalization transforms each array such that the values are bounded between 0 and 1."
   ]
  },
  {
   "cell_type": "code",
   "execution_count": 40,
   "id": "382ba021",
   "metadata": {},
   "outputs": [],
   "source": [
    "m = experiment.get_population_response_matrix(\n",
    "    include_units, \n",
    "    'all',\n",
    "    thresh = (0,500),\n",
    "    norm = 'zscore' #apply zscore normalization within each unit\n",
    ")"
   ]
  },
  {
   "cell_type": "code",
   "execution_count": 41,
   "id": "5112e01a",
   "metadata": {},
   "outputs": [
    {
     "data": {
      "image/png": "[encoded data removed]",
      "text/plain": [
       "<Figure size 1728x576 with 2 Axes>"
      ]
     },
     "metadata": {
      "needs_background": "light"
     },
     "output_type": "display_data"
    }
   ],
   "source": [
    "#plot the population response heatmap\n",
    "fig, ax = plt.subplots(figsize = (24,8))\n",
    "\n",
    "#transpose the array for a more typical rasterplot visualization\n",
    "ax = sns.heatmap(m.values.T, cbar_kws={'label': 'spikes/ms'})\n",
    "\n",
    "#white dotted line showing the boundary between stimulus conditions\n",
    "ax.plot([500]*1000, np.arange(1000), linestyle = '--', color = 'white')\n",
    "ax.set_xticklabels(np.arange(0,500,5))\n",
    "ax.set_xlabel(\"Time (ms)\")\n",
    "ax.set_ylabel(\"Unit\")\n",
    "plt.show()"
   ]
  },
  {
   "cell_type": "markdown",
   "id": "529fbbe9",
   "metadata": {},
   "source": [
    "- Zscore normalization transforms each array such that each value corresponds to how many standard deviations that value falls away from the mean."
   ]
  },
  {
   "cell_type": "code",
   "execution_count": 42,
   "id": "4c370a1a",
   "metadata": {},
   "outputs": [],
   "source": [
    "m = experiment.get_population_response_matrix(\n",
    "    include_units, \n",
    "    'all',\n",
    "    thresh = (0,500),\n",
    "    norm = 'average' #apply average normalization within each unit\n",
    ")"
   ]
  },
  {
   "cell_type": "code",
   "execution_count": 43,
   "id": "c1740fe5",
   "metadata": {},
   "outputs": [
    {
     "data": {
      "image/png": "[encoded data removed]",
      "text/plain": [
       "<Figure size 1728x576 with 2 Axes>"
      ]
     },
     "metadata": {
      "needs_background": "light"
     },
     "output_type": "display_data"
    }
   ],
   "source": [
    "#plot the population response heatmap\n",
    "fig, ax = plt.subplots(figsize = (24,8))\n",
    "\n",
    "#transpose the array for a more typical rasterplot visualization\n",
    "ax = sns.heatmap(m.values.T, cbar_kws={'label': 'spikes/ms/repeat'})\n",
    "\n",
    "#white dotted line showing the boundary between stimulus conditions\n",
    "ax.plot([500]*1000, np.arange(1000), linestyle = '--', color = 'white')\n",
    "ax.set_xticklabels(np.arange(0,500,5))\n",
    "ax.set_xlabel(\"Time (ms)\")\n",
    "ax.set_ylabel(\"Unit\")\n",
    "plt.show()"
   ]
  },
  {
   "cell_type": "markdown",
   "id": "5bb91877",
   "metadata": {},
   "source": [
    "- Average normalization is NOT a true normalization method. This transforms each value to the average response over all stimulus repetitions and converts it to spikes/second (rate = (spikes/stimulus repeats) * 1000). Notice that this is not visually different from no normalization. However, it is often necessary to take the average firing rate over stimulus repetitions for other types of analysis."
   ]
  }
 ],
 "metadata": {
  "kernelspec": {
   "display_name": "Python 3 (ipykernel)",
   "language": "python",
   "name": "python3"
  },
  "language_info": {
   "codemirror_mode": {
    "name": "ipython",
    "version": 3
   },
   "file_extension": ".py",
   "mimetype": "text/x-python",
   "name": "python",
   "nbconvert_exporter": "python",
   "pygments_lexer": "ipython3",
   "version": "3.9.7"
  }
 },
 "nbformat": 4,
 "nbformat_minor": 5
}
